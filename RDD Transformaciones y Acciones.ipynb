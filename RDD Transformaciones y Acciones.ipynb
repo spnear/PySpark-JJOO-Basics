{
 "cells": [
  {
   "cell_type": "markdown",
   "id": "58e86b28",
   "metadata": {},
   "source": [
    "# RDD\n",
    "\n",
    "En visión general, un RDD puede ser visto como un set de datos los cuales soportan solo dos tipos de operaciones: transformaciones y acciones.\n",
    "\n",
    "Las transformaciones permiten crear un nuevo RDD a partir de uno previamente existente, mientras que las acciones retornan un valor al driver de la aplicación. El núcleo de operación del paradigma de Spark es la ejecución perezosa (Lazy), es decir que las transformaciones solo serán calculadas posterior a una llamada de acción.\n",
    "\n",
    "Además, los RDD poseen una familiaridad con el paradigma orientado a objetos, lo cual permite que podamos realizar operaciones de bajo nivel a modo. Map, filter y reduce son tres de las operaciones más comunes.\n",
    "\n",
    "Una de las grandes ventajas que ofrecen los RDD es la compilación segura; por su particularidad de ejecución perezosa, se calcula si se generará un error o no antes de ejecutarse, lo cual permite identificar problemas antes de lanzar la aplicación. El pero que podemos encontrar con los RDD es que no son correctamente tratados por el Garbage collector y cuando las lógicas de operación se hacen complejas, su uso puede resultar poco práctico, aquí entran los DataFrames."
   ]
  },
  {
   "cell_type": "code",
   "execution_count": 1,
   "id": "b366a91f",
   "metadata": {},
   "outputs": [],
   "source": [
    "from pyspark import SparkContext"
   ]
  },
  {
   "cell_type": "code",
   "execution_count": 2,
   "id": "971d5a65",
   "metadata": {},
   "outputs": [],
   "source": [
    "sc = SparkContext(master=\"local\", appName = \"Transformaciones y Acciones\")"
   ]
  },
  {
   "cell_type": "code",
   "execution_count": 3,
   "id": "7cf1ea49",
   "metadata": {},
   "outputs": [],
   "source": [
    "rdd1 = sc.parallelize([1,2,3])"
   ]
  },
  {
   "cell_type": "code",
   "execution_count": 4,
   "id": "8878b108",
   "metadata": {},
   "outputs": [
    {
     "data": {
      "text/plain": [
       "[1, 2, 3]"
      ]
     },
     "execution_count": 4,
     "metadata": {},
     "output_type": "execute_result"
    }
   ],
   "source": [
    "rdd1.collect()"
   ]
  },
  {
   "cell_type": "code",
   "execution_count": 5,
   "id": "83c51a6d",
   "metadata": {},
   "outputs": [
    {
     "data": {
      "text/html": [
       "\n",
       "        <div>\n",
       "            <p><b>SparkContext</b></p>\n",
       "\n",
       "            <p><a href=\"http://192.168.0.15:4041\">Spark UI</a></p>\n",
       "\n",
       "            <dl>\n",
       "              <dt>Version</dt>\n",
       "                <dd><code>v3.1.2</code></dd>\n",
       "              <dt>Master</dt>\n",
       "                <dd><code>local</code></dd>\n",
       "              <dt>AppName</dt>\n",
       "                <dd><code>Transformaciones y Acciones</code></dd>\n",
       "            </dl>\n",
       "        </div>\n",
       "        "
      ],
      "text/plain": [
       "<SparkContext master=local appName=Transformaciones y Acciones>"
      ]
     },
     "execution_count": 5,
     "metadata": {},
     "output_type": "execute_result"
    }
   ],
   "source": [
    "sc"
   ]
  },
  {
   "cell_type": "code",
   "execution_count": 6,
   "id": "2b957668",
   "metadata": {},
   "outputs": [
    {
     "name": "stdout",
     "output_type": "stream",
     "text": [
      "deporte.csv\t deportistaError.csv  modelo_relacional.jpg\r\n",
      "deportista2.csv  evento.csv\t      paises.csv\r\n",
      "deportista.csv\t juegos.csv\t      resultados.csv\r\n"
     ]
    }
   ],
   "source": [
    "!ls ./data/"
   ]
  },
  {
   "cell_type": "code",
   "execution_count": 8,
   "id": "c6341b02",
   "metadata": {},
   "outputs": [],
   "source": [
    "#Creamos path para facilitar uso de archivos\n",
    "path = \"./data/\""
   ]
  },
  {
   "cell_type": "code",
   "execution_count": 9,
   "id": "bbe04816",
   "metadata": {},
   "outputs": [],
   "source": [
    "equiposOlimpicosRDD = sc.textFile(path+\"paises.csv\") \\\n",
    "    .map(lambda line : line.split(\",\"))"
   ]
  },
  {
   "cell_type": "markdown",
   "id": "66f3bbb9",
   "metadata": {},
   "source": [
    "### Take:\n",
    "- Me muestra la cantidad de lineas que le pasemos\n",
    "* No podemos ver acciones o si hay error hasta usar una ACCION"
   ]
  },
  {
   "cell_type": "code",
   "execution_count": 10,
   "id": "58d4c9bc",
   "metadata": {},
   "outputs": [
    {
     "data": {
      "text/plain": [
       "[['id', 'equipo', 'sigla'],\n",
       " ['1', '30. Februar', 'AUT'],\n",
       " ['2', 'A North American Team', 'MEX'],\n",
       " ['3', 'Acipactli', 'MEX'],\n",
       " ['4', 'Acturus', 'ARG'],\n",
       " ['5', 'Afghanistan', 'AFG'],\n",
       " ['6', 'Akatonbo', 'IRL'],\n",
       " ['7', 'Alain IV', 'SUI'],\n",
       " ['8', 'Albania', 'ALB'],\n",
       " ['9', 'Alcaid', 'POR'],\n",
       " ['10', 'Alcyon-6', 'FRA'],\n",
       " ['11', 'Alcyon-7', 'FRA'],\n",
       " ['12', 'Aldebaran', 'ITA'],\n",
       " ['13', 'Aldebaran II', 'ITA'],\n",
       " ['14', 'Aletta', 'IRL']]"
      ]
     },
     "execution_count": 10,
     "metadata": {},
     "output_type": "execute_result"
    }
   ],
   "source": [
    "equiposOlimpicosRDD.take(15)"
   ]
  },
  {
   "cell_type": "code",
   "execution_count": 11,
   "id": "cdbdd604",
   "metadata": {},
   "outputs": [
    {
     "data": {
      "text/plain": [
       "231"
      ]
     },
     "execution_count": 11,
     "metadata": {},
     "output_type": "execute_result"
    }
   ],
   "source": [
    "equiposOlimpicosRDD.map(lambda x: (x[2])).distinct().count()\n",
    "\n",
    "# Los RDD son inmutables, realizar estas acciones no genera cambios en \n",
    "# RDD , pero puedo re asignar el resultado a una variable nueva"
   ]
  },
  {
   "cell_type": "markdown",
   "id": "bb2b1f51",
   "metadata": {},
   "source": [
    "Nos encontramos con 231 paises participando en los JJOO, incluyendo paises extintos como la Union Sovietica"
   ]
  },
  {
   "cell_type": "code",
   "execution_count": 12,
   "id": "d024c060",
   "metadata": {},
   "outputs": [
    {
     "data": {
      "text/plain": [
       "[('sigla', 1), ('AUT', 11), ('MEX', 9), ('ARG', 18), ('AFG', 1)]"
      ]
     },
     "execution_count": 12,
     "metadata": {},
     "output_type": "execute_result"
    }
   ],
   "source": [
    "#Funcionan de la forma llave, valor , motivo por esto invertimos orden\n",
    "equiposOlimpicosRDD.map(lambda x :  (x[2], x[1] )).groupByKey() \\\n",
    "    .mapValues(len).take(5)"
   ]
  },
  {
   "cell_type": "code",
   "execution_count": 13,
   "id": "210a1fa2",
   "metadata": {},
   "outputs": [
    {
     "data": {
      "text/plain": [
       "[('sigla', ['equipo']),\n",
       " ('AUT',\n",
       "  ['30. Februar',\n",
       "   'Austria',\n",
       "   'Austria-1',\n",
       "   'Austria-2',\n",
       "   'Breslau',\n",
       "   'Brigantia',\n",
       "   'Donar III',\n",
       "   'Evita VI',\n",
       "   'May-Be 1960',\n",
       "   '\"R.-V. Germania; Leitmeritz\"',\n",
       "   'Surprise']),\n",
       " ('MEX',\n",
       "  ['A North American Team',\n",
       "   'Acipactli',\n",
       "   'Chamukina',\n",
       "   'Mexico',\n",
       "   'Mexico-1',\n",
       "   'Mexico-2',\n",
       "   'Nausikaa 4',\n",
       "   'Tlaloc',\n",
       "   'Xolotl']),\n",
       " ('ARG',\n",
       "  ['Acturus',\n",
       "   'Antares',\n",
       "   'Arcturus',\n",
       "   'Ardilla',\n",
       "   'Argentina',\n",
       "   'Argentina-1',\n",
       "   'Argentina-2',\n",
       "   'Blue Red',\n",
       "   'Covunco III',\n",
       "   'Cupidon III',\n",
       "   'Djinn',\n",
       "   'Gullvinge',\n",
       "   'Matrero II',\n",
       "   'Mizar',\n",
       "   'Pampero',\n",
       "   'Rampage',\n",
       "   'Tango',\n",
       "   'Wiking']),\n",
       " ('AFG', ['Afghanistan'])]"
      ]
     },
     "execution_count": 13,
     "metadata": {},
     "output_type": "execute_result"
    }
   ],
   "source": [
    "equiposOlimpicosRDD.map(lambda x :  (x[2], x[1] )).groupByKey() \\\n",
    "    .mapValues(list).take(5)"
   ]
  },
  {
   "cell_type": "code",
   "execution_count": 14,
   "id": "77a52b08",
   "metadata": {},
   "outputs": [
    {
     "data": {
      "text/plain": [
       "[['4', 'Acturus', 'ARG'],\n",
       " ['37', 'Antares', 'ARG'],\n",
       " ['42', 'Arcturus', 'ARG'],\n",
       " ['43', 'Ardilla', 'ARG'],\n",
       " ['45', 'Argentina', 'ARG'],\n",
       " ['46', 'Argentina-1', 'ARG'],\n",
       " ['47', 'Argentina-2', 'ARG'],\n",
       " ['119', 'Blue Red', 'ARG'],\n",
       " ['238', 'Covunco III', 'ARG'],\n",
       " ['252', 'Cupidon III', 'ARG'],\n",
       " ['288', 'Djinn', 'ARG'],\n",
       " ['436', 'Gullvinge', 'ARG'],\n",
       " ['644', 'Matrero II', 'ARG'],\n",
       " ['672', 'Mizar', 'ARG'],\n",
       " ['774', 'Pampero', 'ARG'],\n",
       " ['843', 'Rampage', 'ARG'],\n",
       " ['1031', 'Tango', 'ARG'],\n",
       " ['1162', 'Wiking', 'ARG']]"
      ]
     },
     "execution_count": 14,
     "metadata": {},
     "output_type": "execute_result"
    }
   ],
   "source": [
    "equiposArgentinos = equiposOlimpicosRDD.filter(lambda l : \"ARG\" in l)\n",
    "equiposArgentinos.collect()\n",
    "#Collect manda todos, por eso no es recomendado usarlo."
   ]
  },
  {
   "cell_type": "code",
   "execution_count": 15,
   "id": "01f69fe2",
   "metadata": {},
   "outputs": [
    {
     "data": {
      "text/plain": [
       "[['225', 'Colombia', 'COL']]"
      ]
     },
     "execution_count": 15,
     "metadata": {},
     "output_type": "execute_result"
    }
   ],
   "source": [
    "equiposColombianos = equiposOlimpicosRDD.filter(lambda l : \"COL\" in l)\n",
    "equiposColombianos.collect()"
   ]
  },
  {
   "cell_type": "code",
   "execution_count": 16,
   "id": "63927955",
   "metadata": {},
   "outputs": [
    {
     "data": {
      "text/plain": [
       "1185"
      ]
     },
     "execution_count": 16,
     "metadata": {},
     "output_type": "execute_result"
    }
   ],
   "source": [
    "equiposOlimpicosRDD.count() #Cuantos valores tiene este RDD? Easy!"
   ]
  },
  {
   "cell_type": "code",
   "execution_count": 17,
   "id": "869cb927",
   "metadata": {},
   "outputs": [
    {
     "data": {
      "text/plain": [
       "1185"
      ]
     },
     "execution_count": 17,
     "metadata": {},
     "output_type": "execute_result"
    }
   ],
   "source": [
    "equiposOlimpicosRDD.countApprox(20) #Cuenta cuantos valores consigue leer en \n",
    "# la cantidad de tiempo indicada"
   ]
  },
  {
   "cell_type": "code",
   "execution_count": 18,
   "id": "f9863d14",
   "metadata": {},
   "outputs": [],
   "source": [
    "deportistaOlimpicoRDD = sc.textFile(path+\"deportista.csv\") \\\n",
    "    .map(lambda l: l.split(\",\"))\n",
    "deportistaOlimpicoRDD2 = sc.textFile(path+\"deportista2.csv\") \\\n",
    "    .map(lambda l: l.split(\",\"))"
   ]
  },
  {
   "cell_type": "markdown",
   "id": "c3193fbc",
   "metadata": {},
   "source": [
    "# Joining and Unions\n",
    "\n",
    "Unimos los dos RDD para no tener más duplicados:"
   ]
  },
  {
   "cell_type": "code",
   "execution_count": 19,
   "id": "576ab4b1",
   "metadata": {},
   "outputs": [],
   "source": [
    "deportistaOlimpicoRDD = deportistaOlimpicoRDD \\\n",
    "    .union(deportistaOlimpicoRDD2)"
   ]
  },
  {
   "cell_type": "code",
   "execution_count": 20,
   "id": "5bde9622",
   "metadata": {},
   "outputs": [
    {
     "data": {
      "text/plain": [
       "135572"
      ]
     },
     "execution_count": 20,
     "metadata": {},
     "output_type": "execute_result"
    }
   ],
   "source": [
    "deportistaOlimpicoRDD.count()"
   ]
  },
  {
   "cell_type": "code",
   "execution_count": 21,
   "id": "3b4863bd",
   "metadata": {},
   "outputs": [
    {
     "data": {
      "text/plain": [
       "[['id', 'equipo', 'sigla'], ['999', 'Stella-2', 'NOR']]"
      ]
     },
     "execution_count": 21,
     "metadata": {},
     "output_type": "execute_result"
    }
   ],
   "source": [
    "equiposOlimpicosRDD.top(2)"
   ]
  },
  {
   "cell_type": "code",
   "execution_count": 22,
   "id": "7f67f6bc",
   "metadata": {},
   "outputs": [
    {
     "data": {
      "text/plain": [
       "[['deportista_id', 'nombre', 'genero', 'edad', 'altura', 'peso', 'equipo_id'],\n",
       " ['99999', 'Alexander Grant Alick Rennie', '1', '32', '182', '71', '967']]"
      ]
     },
     "execution_count": 22,
     "metadata": {},
     "output_type": "execute_result"
    }
   ],
   "source": [
    "deportistaOlimpicoRDD.top(2)"
   ]
  },
  {
   "cell_type": "markdown",
   "id": "2a96300b",
   "metadata": {},
   "source": [
    "Observemos como id y equipo id son el valor que nos facilitan el JOIN"
   ]
  },
  {
   "cell_type": "code",
   "execution_count": 23,
   "id": "10723606",
   "metadata": {},
   "outputs": [
    {
     "data": {
      "text/plain": [
       "[('199', (['1', 'A Dijiang', '1', '24', '180', '80'], 'CHN')),\n",
       " ('199', (['2', 'A Lamusi', '1', '23', '170', '60'], 'CHN')),\n",
       " ('199', (['602', 'Abudoureheman', '1', '22', '182', '75'], 'CHN')),\n",
       " ('199', (['1463', 'Ai Linuer', '1', '25', '160', '62'], 'CHN')),\n",
       " ('199', (['1464', 'Ai Yanhan', '2', '14', '168', '54'], 'CHN')),\n",
       " ('199', (['3605', 'An Weijiang', '1', '22', '178', '72'], 'CHN'))]"
      ]
     },
     "execution_count": 23,
     "metadata": {},
     "output_type": "execute_result"
    }
   ],
   "source": [
    "deportistaOlimpicoRDD.map(lambda l : [l[-1],l[:-1]]) \\\n",
    "    .join(equiposOlimpicosRDD.map(lambda x : [x[0],x[2]])) \\\n",
    "    .take(6)"
   ]
  },
  {
   "cell_type": "code",
   "execution_count": 24,
   "id": "b7e440d6",
   "metadata": {},
   "outputs": [
    {
     "data": {
      "text/plain": [
       "[('362', (['131505', 'Steven Woodburn', '1', '24', '185', '90'], 'FRA')),\n",
       " ('967', (['13626', 'Jill Brresen', '2', '22', '170', '57'], 'RSA')),\n",
       " ('482', (['44299', 'Gumundur Gumundsson', '1', '23', '174', '77'], 'ISL')),\n",
       " ('970', (['68062', 'Lee MinHui', '2', '28', '174', '65'], 'KOR')),\n",
       " ('794', (['92442', 'Luis Paz Zoldan', '1', '19', '187', '82'], 'PER')),\n",
       " ('413', (['26822', 'Jared Mark Deacon', '1', '24', '185', '77'], 'GBR'))]"
      ]
     },
     "execution_count": 24,
     "metadata": {},
     "output_type": "execute_result"
    }
   ],
   "source": [
    "deportistaOlimpicoRDD.map(lambda l : [l[-1],l[:-1]]) \\\n",
    "    .join(equiposOlimpicosRDD.map(lambda x : [x[0],x[2]])) \\\n",
    "    .takeSample(False, 6, 25)\n",
    "#Take sample: muestras aleatorias (repetidos, cantidad, semilla)"
   ]
  },
  {
   "cell_type": "code",
   "execution_count": 25,
   "id": "2f55893a",
   "metadata": {},
   "outputs": [],
   "source": [
    "resultado = sc.textFile(path+\"resultados.csv\") \\\n",
    "    .map(lambda l : l.split(\",\"))"
   ]
  },
  {
   "cell_type": "code",
   "execution_count": 26,
   "id": "7cf5c831",
   "metadata": {},
   "outputs": [
    {
     "data": {
      "text/plain": [
       "[['resultado_id', 'medalla', 'deportista_id', 'juego_id', 'evento_id']]"
      ]
     },
     "execution_count": 26,
     "metadata": {},
     "output_type": "execute_result"
    }
   ],
   "source": [
    "resultado.take(1)"
   ]
  },
  {
   "cell_type": "code",
   "execution_count": 27,
   "id": "01daa7e6",
   "metadata": {},
   "outputs": [],
   "source": [
    "resultadoGanador = resultado.filter(lambda l : 'NA' not in l[1]) #Quitamos los que no ganaron"
   ]
  },
  {
   "cell_type": "code",
   "execution_count": 28,
   "id": "ed0a756c",
   "metadata": {},
   "outputs": [
    {
     "data": {
      "text/plain": [
       "[['resultado_id', 'medalla', 'deportista_id', 'juego_id', 'evento_id'],\n",
       " ['4', 'Gold', '4', '2', '4'],\n",
       " ['38', 'Bronze', '15', '7', '19'],\n",
       " ['39', 'Bronze', '15', '7', '20'],\n",
       " ['41', 'Bronze', '16', '50', '14']]"
      ]
     },
     "execution_count": 28,
     "metadata": {},
     "output_type": "execute_result"
    }
   ],
   "source": [
    "resultadoGanador.take(5)"
   ]
  },
  {
   "cell_type": "code",
   "execution_count": 29,
   "id": "5e6464c8",
   "metadata": {},
   "outputs": [
    {
     "data": {
      "text/plain": [
       "[['deportista_id', 'nombre', 'genero', 'edad', 'altura', 'peso', 'equipo_id'],\n",
       " ['1', 'A Dijiang', '1', '24', '180', '80', '199']]"
      ]
     },
     "execution_count": 29,
     "metadata": {},
     "output_type": "execute_result"
    }
   ],
   "source": [
    "# Reto. Hacer Join con el RDD anterior\n",
    "deportistaOlimpicoRDD.take(2)"
   ]
  },
  {
   "cell_type": "code",
   "execution_count": 30,
   "id": "c2c44ba1",
   "metadata": {},
   "outputs": [
    {
     "data": {
      "text/plain": [
       "[['id', 'equipo', 'sigla'], ['1', '30. Februar', 'AUT']]"
      ]
     },
     "execution_count": 30,
     "metadata": {},
     "output_type": "execute_result"
    }
   ],
   "source": [
    "equiposOlimpicosRDD.take(2)"
   ]
  },
  {
   "cell_type": "code",
   "execution_count": 31,
   "id": "ae591776",
   "metadata": {},
   "outputs": [],
   "source": [
    "deportista_paises = deportistaOlimpicoRDD.map(lambda l : [l[-1], l[:-1]]) \\\n",
    "        .join(equiposOlimpicosRDD.map(lambda x : [x[0],x[2]]))"
   ]
  },
  {
   "cell_type": "code",
   "execution_count": 32,
   "id": "b6bd9c9e",
   "metadata": {},
   "outputs": [
    {
     "data": {
      "text/plain": [
       "[('199', (['1', 'A Dijiang', '1', '24', '180', '80'], 'CHN')),\n",
       " ('199', (['2', 'A Lamusi', '1', '23', '170', '60'], 'CHN'))]"
      ]
     },
     "execution_count": 32,
     "metadata": {},
     "output_type": "execute_result"
    }
   ],
   "source": [
    "deportista_paises.take(2)"
   ]
  },
  {
   "cell_type": "code",
   "execution_count": 33,
   "id": "bcdbdfc1",
   "metadata": {},
   "outputs": [],
   "source": [
    "#Primer map: Extraer jugador id y el resto de valores(key,values)\n",
    "#Segundo map: Extraer jugador id y valor de medalla (Adicional innecesario)\n",
    "paises_medallas = deportista_paises.map(lambda l : (l[1][0][0] , (l[0] , l[1][0][1:],l[1][1]),l[1][1] )) \\\n",
    "        .join(resultadoGanador.map(lambda l : (l[2],l[1])))"
   ]
  },
  {
   "cell_type": "code",
   "execution_count": 34,
   "id": "4a5abd77",
   "metadata": {},
   "outputs": [
    {
     "data": {
      "text/plain": [
       "[('12941',\n",
       "  (('1096', ['Jeanette Bolden', '2', '24', '174', '65'], 'USA'), 'Gold')),\n",
       " ('9803',\n",
       "  (('249', ['Daima Mayelis Beltrn Guisado', '2', '28', '182', '104'], 'CUB'),\n",
       "   'Silver')),\n",
       " ('77779',\n",
       "  (('1096', ['Jeffrey Dean Jeff McLaughlin', '1', '22', '198', '91'], 'USA'),\n",
       "   'Bronze')),\n",
       " ('89894',\n",
       "  (('1084',\n",
       "    ['Inna Volodymyrivna OsypenkoRadomska', '2', '17', '166', '63'],\n",
       "    'UKR'),\n",
       "   'Gold')),\n",
       " ('74240',\n",
       "  (('535', ['Aset Sekenovich Mambetov', '1', '22', '186', '96'], 'KAZ'),\n",
       "   'Bronze'))]"
      ]
     },
     "execution_count": 34,
     "metadata": {},
     "output_type": "execute_result"
    }
   ],
   "source": [
    "paises_medallas.takeSample(False, 5, 11)"
   ]
  },
  {
   "cell_type": "code",
   "execution_count": 35,
   "id": "4f8eb66b",
   "metadata": {},
   "outputs": [],
   "source": [
    "valores_medallas = {\n",
    "    'Gold' : 7,\n",
    "    'Silver' : 5,\n",
    "    'Bronze' : 4\n",
    "}"
   ]
  },
  {
   "cell_type": "code",
   "execution_count": 36,
   "id": "f12ec941",
   "metadata": {},
   "outputs": [
    {
     "data": {
      "text/plain": [
       "[('CHN', 5), ('CHN', 4), ('CHN', 5), ('CHN', 5), ('CHN', 5)]"
      ]
     },
     "execution_count": 36,
     "metadata": {},
     "output_type": "execute_result"
    }
   ],
   "source": [
    "paises_medallas.map(lambda x : (x[1][0][2], valores_medallas[x[1][1]])).take(5)"
   ]
  },
  {
   "cell_type": "code",
   "execution_count": 37,
   "id": "8dabcb2b",
   "metadata": {},
   "outputs": [],
   "source": [
    "paises_medallas = paises_medallas.map(lambda x : (x[1][0][2], valores_medallas[x[1][1]]))"
   ]
  },
  {
   "cell_type": "markdown",
   "id": "3cba3d47",
   "metadata": {},
   "source": [
    "# Agrupar en un RDD\n",
    "Debido a lo primitivo que son los RDD ocupados realizar operaciones de bajo nivel"
   ]
  },
  {
   "cell_type": "code",
   "execution_count": 38,
   "id": "32782f16",
   "metadata": {},
   "outputs": [],
   "source": [
    "from operator import add"
   ]
  },
  {
   "cell_type": "code",
   "execution_count": 39,
   "id": "f1a4a962",
   "metadata": {},
   "outputs": [],
   "source": [
    "conclusion = paises_medallas \\\n",
    "    .reduceByKey((add)) \\\n",
    "    .sortBy(lambda x : x[1], ascending=False)"
   ]
  },
  {
   "cell_type": "code",
   "execution_count": 40,
   "id": "b6674c85",
   "metadata": {},
   "outputs": [
    {
     "data": {
      "text/plain": [
       "[('USA', 32137),\n",
       " ('URS', 14834),\n",
       " ('GBR', 10925),\n",
       " ('GER', 10896),\n",
       " ('FRA', 9265),\n",
       " ('ITA', 8755),\n",
       " ('SWE', 8110),\n",
       " ('CAN', 7209),\n",
       " ('AUS', 6755),\n",
       " ('HUN', 6142)]"
      ]
     },
     "execution_count": 40,
     "metadata": {},
     "output_type": "execute_result"
    }
   ],
   "source": [
    "conclusion.take(10)\n",
    "# (pais, puntaje)"
   ]
  },
  {
   "cell_type": "code",
   "execution_count": 41,
   "id": "1e97c471",
   "metadata": {},
   "outputs": [],
   "source": [
    "#sc.stop()"
   ]
  }
 ],
 "metadata": {
  "kernelspec": {
   "display_name": "Python 3",
   "language": "python",
   "name": "python3"
  },
  "language_info": {
   "codemirror_mode": {
    "name": "ipython",
    "version": 3
   },
   "file_extension": ".py",
   "mimetype": "text/x-python",
   "name": "python",
   "nbconvert_exporter": "python",
   "pygments_lexer": "ipython3",
   "version": "3.8.8"
  }
 },
 "nbformat": 4,
 "nbformat_minor": 5
}
