{
 "cells": [
  {
   "cell_type": "markdown",
   "id": "5ac9537e",
   "metadata": {},
   "source": [
    "# Datasets Spark\n",
    "\n",
    "Esos componentes fueron agregados en la versión 1.3 de Spark y pueden ser invocados con el contexto espacial de Spark SQL. Como indica su nombre, es un módulo especialmente desarrollado para ser ejecutado con instrucciones parecidas al SQL estándar.\n",
    "\n",
    "De la misma forma, como los RDD, estos pueden ser creados a partir de archivos, tablas tipo Hive, bases de datos externas y RDD o DataFrames existentes.\n",
    "\n",
    "El primer detalle que salta cuando creamos un DataFrame es que poseen columnas nombradas, lo que a nivel conceptual es como trabajar con un DataFrame de Pandas. Con la excepción que a nivel interno Spark trabaja con Scala, lo cual le asigna a cada columna el tipo de dato Row, un tipo especial de objeto sin tipo definido.\n",
    "\n",
    "Pero no es todo, los DataFrames implementan un sistema llamado Catalyst, el cual es un motor de optimización de planes de ejecución, parecido al que usan las bases de datos, pero diseñado para la cantidad de datos propia de Spark, aunado a eso, se tiene implementado un optimizador de memoria y consumo de CPU llamado Tungsten, el cual determina cómo se convertirán los planes lógicos creados por Catalyst a un plan físico.\n",
    "\n",
    "###### Mini resumen de características:\n",
    "\n",
    "<ol>\n",
    "    <li><p>Permite procesar como un tabla de database</p></li>\n",
    "    <li><p>Poseen una estructura y pueden ser creados como Dataframes</p></li>\n",
    "    <li><p>Mejor optimización (Sistema de consulta Catalyst y motor de ejecución Tungsten)</p></li>\n",
    "</ol>"
   ]
  },
  {
   "cell_type": "code",
   "execution_count": 7,
   "id": "097551ca",
   "metadata": {},
   "outputs": [],
   "source": [
    "from pyspark import SparkContext\n",
    "from pyspark.sql import SparkSession\n",
    "\n",
    "from pyspark.sql.types import StructType, StructField, IntegerType, StringType, FloatType\n",
    "from pyspark.sql.types import Row\n",
    "from pyspark.sql import SQLContext"
   ]
  },
  {
   "cell_type": "code",
   "execution_count": 8,
   "id": "37538752",
   "metadata": {},
   "outputs": [],
   "source": [
    "spark = SparkContext(master=\"local\", appName=\"Dataframes\")\n",
    "sqlContext = SQLContext(spark)"
   ]
  },
  {
   "cell_type": "markdown",
   "id": "b2a45f90",
   "metadata": {},
   "source": [
    "### Creando DF desde cero."
   ]
  },
  {
   "cell_type": "code",
   "execution_count": 9,
   "id": "314cd64c",
   "metadata": {},
   "outputs": [
    {
     "name": "stdout",
     "output_type": "stream",
     "text": [
      "deporte.csv\t deportistaError.csv  modelo_relacional.jpg\r\n",
      "deportista2.csv  evento.csv\t      paises.csv\r\n",
      "deportista.csv\t juegos.csv\t      resultados.csv\r\n"
     ]
    }
   ],
   "source": [
    "!ls ./data/"
   ]
  },
  {
   "cell_type": "code",
   "execution_count": 10,
   "id": "0fac2d79",
   "metadata": {},
   "outputs": [
    {
     "name": "stdout",
     "output_type": "stream",
     "text": [
      ",nombre_juego,annio,temporada,ciudad\r\n",
      "1,1896 Verano,1896,Verano,Athina\r\n",
      "2,1900 Verano,1900,Verano,Paris\r\n",
      "3,1904 Verano,1904,Verano,St. Louis\r\n",
      "4,1906 Verano,1906,Verano,Athina\r\n"
     ]
    }
   ],
   "source": [
    "!head -n 5 ./data/juegos.csv"
   ]
  },
  {
   "cell_type": "code",
   "execution_count": 11,
   "id": "5a2c01e0",
   "metadata": {},
   "outputs": [],
   "source": [
    "path = \"./data/\"\n",
    "\n",
    "game_schema = StructType([\n",
    "    StructField(\"game_id\", IntegerType(), False),\n",
    "    StructField(\"year\", StringType(), False),\n",
    "    StructField(\"season\", StringType(), False),\n",
    "    StructField(\"city\", StringType(), False)\n",
    "])\n",
    "\n",
    "game_df = sqlContext.read.schema(game_schema) \\\n",
    "    .option(\"header\", \"true\").csv(path+\"juegos.csv\")"
   ]
  },
  {
   "cell_type": "code",
   "execution_count": 12,
   "id": "7490808c",
   "metadata": {},
   "outputs": [
    {
     "name": "stdout",
     "output_type": "stream",
     "text": [
      "+-------+-----------+------+------+\n",
      "|game_id|       year|season|  city|\n",
      "+-------+-----------+------+------+\n",
      "|      1|1896 Verano|  1896|Verano|\n",
      "|      2|1900 Verano|  1900|Verano|\n",
      "|      3|1904 Verano|  1904|Verano|\n",
      "|      4|1906 Verano|  1906|Verano|\n",
      "+-------+-----------+------+------+\n",
      "only showing top 4 rows\n",
      "\n"
     ]
    }
   ],
   "source": [
    "game_df.show(4) #Como tenemos un formato creado, podemos usar Show()"
   ]
  },
  {
   "cell_type": "code",
   "execution_count": 13,
   "id": "5c615dfe",
   "metadata": {},
   "outputs": [
    {
     "data": {
      "text/html": [
       "\n",
       "        <div>\n",
       "            <p><b>SparkContext</b></p>\n",
       "\n",
       "            <p><a href=\"http://192.168.0.15:4040\">Spark UI</a></p>\n",
       "\n",
       "            <dl>\n",
       "              <dt>Version</dt>\n",
       "                <dd><code>v3.1.2</code></dd>\n",
       "              <dt>Master</dt>\n",
       "                <dd><code>local</code></dd>\n",
       "              <dt>AppName</dt>\n",
       "                <dd><code>Dataframes</code></dd>\n",
       "            </dl>\n",
       "        </div>\n",
       "        "
      ],
      "text/plain": [
       "<SparkContext master=local appName=Dataframes>"
      ]
     },
     "execution_count": 13,
     "metadata": {},
     "output_type": "execute_result"
    }
   ],
   "source": [
    "spark"
   ]
  },
  {
   "cell_type": "markdown",
   "id": "fc12551b",
   "metadata": {},
   "source": [
    "### Creando dataframes a partir de un RDD"
   ]
  },
  {
   "cell_type": "code",
   "execution_count": 14,
   "id": "63fc8b10",
   "metadata": {},
   "outputs": [],
   "source": [
    "deportistaOlimpicoRDD = spark.textFile(path+\"deportista.csv\")\\\n",
    "    .map(lambda l : l.split(\",\"))"
   ]
  },
  {
   "cell_type": "code",
   "execution_count": 15,
   "id": "25ff2a53",
   "metadata": {},
   "outputs": [
    {
     "data": {
      "text/plain": [
       "[['deportista_id', 'nombre', 'genero', 'edad', 'altura', 'peso', 'equipo_id'],\n",
       " ['1', 'A Dijiang', '1', '24', '180', '80', '199'],\n",
       " ['2', 'A Lamusi', '1', '23', '170', '60', '199'],\n",
       " ['3', 'Gunnar Nielsen Aaby', '1', '24', '0', '0', '273'],\n",
       " ['4', 'Edgar Lindenau Aabye', '1', '34', '0', '0', '278']]"
      ]
     },
     "execution_count": 15,
     "metadata": {},
     "output_type": "execute_result"
    }
   ],
   "source": [
    "deportistaOlimpicoRDD.take(5)"
   ]
  },
  {
   "cell_type": "code",
   "execution_count": 16,
   "id": "971742b7",
   "metadata": {},
   "outputs": [],
   "source": [
    "# Retiramos encabezado\n",
    "def removeHeader(index, iterator):\n",
    "    return iter(list(iterator)[1:])"
   ]
  },
  {
   "cell_type": "code",
   "execution_count": 17,
   "id": "326e23aa",
   "metadata": {},
   "outputs": [],
   "source": [
    "deportistaOlimpicoRDD = deportistaOlimpicoRDD.mapPartitionsWithIndex(removeHeader)"
   ]
  },
  {
   "cell_type": "code",
   "execution_count": 18,
   "id": "635f7bb5",
   "metadata": {},
   "outputs": [
    {
     "data": {
      "text/plain": [
       "[['1', 'A Dijiang', '1', '24', '180', '80', '199'],\n",
       " ['2', 'A Lamusi', '1', '23', '170', '60', '199'],\n",
       " ['3', 'Gunnar Nielsen Aaby', '1', '24', '0', '0', '273'],\n",
       " ['4', 'Edgar Lindenau Aabye', '1', '34', '0', '0', '278'],\n",
       " ['5', 'Christine Jacoba Aaftink', '2', '21', '185', '82', '705']]"
      ]
     },
     "execution_count": 18,
     "metadata": {},
     "output_type": "execute_result"
    }
   ],
   "source": [
    "deportistaOlimpicoRDD.take(5)"
   ]
  },
  {
   "cell_type": "code",
   "execution_count": 19,
   "id": "8ff81efb",
   "metadata": {},
   "outputs": [],
   "source": [
    "deportistaOlimpicoRDD = deportistaOlimpicoRDD.map(lambda l : (\n",
    "    int(l[0]),\n",
    "    l[1],\n",
    "    int(l[2]),\n",
    "    int(l[3]),\n",
    "    int(l[4]),\n",
    "    float(l[5]),\n",
    "    int(l[6])\n",
    "))"
   ]
  },
  {
   "cell_type": "code",
   "execution_count": 20,
   "id": "209c107c",
   "metadata": {},
   "outputs": [],
   "source": [
    "schema = StructType([\n",
    "    StructField(\"sport_player\", IntegerType(), False),\n",
    "    StructField(\"name\", StringType(), False),\n",
    "    StructField(\"gender\", IntegerType(), False),\n",
    "    StructField(\"age\", IntegerType(), False),\n",
    "    StructField(\"height\", IntegerType(), False),\n",
    "    StructField(\"weight\", FloatType(), False),\n",
    "    StructField(\"team_id\", IntegerType(), False)\n",
    "])"
   ]
  },
  {
   "cell_type": "code",
   "execution_count": 21,
   "id": "3a659b1a",
   "metadata": {},
   "outputs": [
    {
     "name": "stdout",
     "output_type": "stream",
     "text": [
      "+------------+--------------------+------+---+------+------+-------+\n",
      "|sport_player|                name|gender|age|height|weight|team_id|\n",
      "+------------+--------------------+------+---+------+------+-------+\n",
      "|           1|           A Dijiang|     1| 24|   180|  80.0|    199|\n",
      "|           2|            A Lamusi|     1| 23|   170|  60.0|    199|\n",
      "|           3| Gunnar Nielsen Aaby|     1| 24|     0|   0.0|    273|\n",
      "|           4|Edgar Lindenau Aabye|     1| 34|     0|   0.0|    278|\n",
      "|           5|Christine Jacoba ...|     2| 21|   185|  82.0|    705|\n",
      "+------------+--------------------+------+---+------+------+-------+\n",
      "only showing top 5 rows\n",
      "\n"
     ]
    }
   ],
   "source": [
    "sqlContext.createDataFrame(deportistaOlimpicoRDD,schema).show(5)"
   ]
  },
  {
   "cell_type": "code",
   "execution_count": 22,
   "id": "57abb7ea",
   "metadata": {},
   "outputs": [],
   "source": [
    "sports_players_df = sqlContext.createDataFrame(deportistaOlimpicoRDD,schema)"
   ]
  },
  {
   "cell_type": "code",
   "execution_count": 23,
   "id": "3e6b9b7f",
   "metadata": {},
   "outputs": [
    {
     "name": "stdout",
     "output_type": "stream",
     "text": [
      "ls: no se puede acceder a './curso-apache-spark-platzi/files/': No existe el archivo o el directorio\r\n"
     ]
    }
   ],
   "source": [
    "!ls ./curso-apache-spark-platzi/files/"
   ]
  },
  {
   "cell_type": "markdown",
   "id": "798ef76e",
   "metadata": {},
   "source": [
    "###### Hasta ahora tenemos los df:\n",
    "<ul>\n",
    "    <li><p>Juegos</p></li>\n",
    "    <li><p>Deportistas</p></li>\n",
    "    <h5>Pendientes:</h5>\n",
    "    <br></br>\n",
    "    <li><p>Paises</p></li>\n",
    "    <li><p>Resultados</p></li>\n",
    "    <li><p>Deportistas pero haciendo el join primero</p></li>\n",
    "</ul>"
   ]
  },
  {
   "cell_type": "markdown",
   "id": "474c15a3",
   "metadata": {},
   "source": [
    "## Dataframe deportistas unidos"
   ]
  },
  {
   "cell_type": "code",
   "execution_count": 24,
   "id": "6da00a66",
   "metadata": {},
   "outputs": [],
   "source": [
    "deportistaOlimpicoRDD = spark.textFile(path+\"deportista.csv\") \\\n",
    "    .map(lambda l: l.split(\",\"))\n",
    "deportistaOlimpicoRDD2 = spark.textFile(path+\"deportista2.csv\") \\\n",
    "    .map(lambda l: l.split(\",\"))"
   ]
  },
  {
   "cell_type": "code",
   "execution_count": 25,
   "id": "47b59b8b",
   "metadata": {},
   "outputs": [
    {
     "data": {
      "text/plain": [
       "[['deportista_id', 'nombre', 'genero', 'edad', 'altura', 'peso', 'equipo_id'],\n",
       " ['1', 'A Dijiang', '1', '24', '180', '80', '199'],\n",
       " ['2', 'A Lamusi', '1', '23', '170', '60', '199'],\n",
       " ['3', 'Gunnar Nielsen Aaby', '1', '24', '0', '0', '273'],\n",
       " ['4', 'Edgar Lindenau Aabye', '1', '34', '0', '0', '278']]"
      ]
     },
     "execution_count": 25,
     "metadata": {},
     "output_type": "execute_result"
    }
   ],
   "source": [
    "deportistaOlimpicoRDD.take(5)"
   ]
  },
  {
   "cell_type": "code",
   "execution_count": 26,
   "id": "10505afe",
   "metadata": {},
   "outputs": [
    {
     "data": {
      "text/plain": [
       "67787"
      ]
     },
     "execution_count": 26,
     "metadata": {},
     "output_type": "execute_result"
    }
   ],
   "source": [
    "deportistaOlimpicoRDD.count()"
   ]
  },
  {
   "cell_type": "code",
   "execution_count": 27,
   "id": "149e0152",
   "metadata": {},
   "outputs": [
    {
     "data": {
      "text/plain": [
       "[['67787', 'Lee BongJu', '1', '27', '167', '56', '970'],\n",
       " ['67788', 'Lee BuTi', '1', '23', '164', '54', '203'],\n",
       " ['67789', 'Anthony N. Buddy Lee', '1', '34', '172', '62', '1096'],\n",
       " ['67790', 'Alfred A. Butch Lee Porter', '1', '19', '186', '80', '825'],\n",
       " ['67791', 'Lee ByeongGu', '1', '22', '175', '68', '970']]"
      ]
     },
     "execution_count": 27,
     "metadata": {},
     "output_type": "execute_result"
    }
   ],
   "source": [
    "deportistaOlimpicoRDD2.take(5)"
   ]
  },
  {
   "cell_type": "code",
   "execution_count": 28,
   "id": "2d863c57",
   "metadata": {},
   "outputs": [
    {
     "data": {
      "text/plain": [
       "67785"
      ]
     },
     "execution_count": 28,
     "metadata": {},
     "output_type": "execute_result"
    }
   ],
   "source": [
    "deportistaOlimpicoRDD2.count()"
   ]
  },
  {
   "cell_type": "code",
   "execution_count": 29,
   "id": "5a4ae35b",
   "metadata": {},
   "outputs": [],
   "source": [
    "deportistaOlimpicoRDD = deportistaOlimpicoRDD \\\n",
    "    .union(deportistaOlimpicoRDD2)"
   ]
  },
  {
   "cell_type": "code",
   "execution_count": 30,
   "id": "c959765d",
   "metadata": {},
   "outputs": [],
   "source": [
    "#Removemos header primero y luego si procesamos\n",
    "deportistaOlimpicoRDD = deportistaOlimpicoRDD.mapPartitionsWithIndex(removeHeader)"
   ]
  },
  {
   "cell_type": "code",
   "execution_count": 31,
   "id": "95f1f08e",
   "metadata": {},
   "outputs": [],
   "source": [
    "deportistaOlimpicoRDD = deportistaOlimpicoRDD.map(lambda l : (\n",
    "    int(l[0]),\n",
    "    l[1],\n",
    "    int(l[2]),\n",
    "    int(l[3]),\n",
    "    int(l[4]),\n",
    "    float(l[5]),\n",
    "    int(l[6])\n",
    "))"
   ]
  },
  {
   "cell_type": "code",
   "execution_count": 32,
   "id": "bb7e3c8b",
   "metadata": {},
   "outputs": [],
   "source": [
    "schema = StructType([\n",
    "    StructField(\"sport_player\", IntegerType(), False),\n",
    "    StructField(\"name\", StringType(), False),\n",
    "    StructField(\"gender\", IntegerType(), False),\n",
    "    StructField(\"age\", IntegerType(), False),\n",
    "    StructField(\"height\", IntegerType(), False),\n",
    "    StructField(\"weight\", FloatType(), False),\n",
    "    StructField(\"team_id\", IntegerType(), False)\n",
    "])"
   ]
  },
  {
   "cell_type": "code",
   "execution_count": 33,
   "id": "11272f4f",
   "metadata": {},
   "outputs": [
    {
     "name": "stdout",
     "output_type": "stream",
     "text": [
      "+------------+--------------------+------+---+------+------+-------+\n",
      "|sport_player|                name|gender|age|height|weight|team_id|\n",
      "+------------+--------------------+------+---+------+------+-------+\n",
      "|           1|           A Dijiang|     1| 24|   180|  80.0|    199|\n",
      "|           2|            A Lamusi|     1| 23|   170|  60.0|    199|\n",
      "|           3| Gunnar Nielsen Aaby|     1| 24|     0|   0.0|    273|\n",
      "|           4|Edgar Lindenau Aabye|     1| 34|     0|   0.0|    278|\n",
      "|           5|Christine Jacoba ...|     2| 21|   185|  82.0|    705|\n",
      "+------------+--------------------+------+---+------+------+-------+\n",
      "only showing top 5 rows\n",
      "\n"
     ]
    }
   ],
   "source": [
    "sqlContext.createDataFrame(deportistaOlimpicoRDD,schema).show(5)"
   ]
  },
  {
   "cell_type": "code",
   "execution_count": 34,
   "id": "8519cbab",
   "metadata": {},
   "outputs": [],
   "source": [
    "sports_players_df = sqlContext.createDataFrame(deportistaOlimpicoRDD,schema)"
   ]
  },
  {
   "cell_type": "markdown",
   "id": "6373c0ba",
   "metadata": {},
   "source": [
    "## Dataframe países"
   ]
  },
  {
   "cell_type": "code",
   "execution_count": 35,
   "id": "8eba7832",
   "metadata": {},
   "outputs": [],
   "source": [
    "paises_RDD = spark.textFile(path + \"paises.csv\") \\\n",
    "    .map(lambda l: l.split(\",\"))"
   ]
  },
  {
   "cell_type": "code",
   "execution_count": 36,
   "id": "6dd8fa02",
   "metadata": {},
   "outputs": [
    {
     "data": {
      "text/plain": [
       "[['id', 'equipo', 'sigla'],\n",
       " ['1', '30. Februar', 'AUT'],\n",
       " ['2', 'A North American Team', 'MEX'],\n",
       " ['3', 'Acipactli', 'MEX'],\n",
       " ['4', 'Acturus', 'ARG']]"
      ]
     },
     "execution_count": 36,
     "metadata": {},
     "output_type": "execute_result"
    }
   ],
   "source": [
    "paises_RDD.take(5)"
   ]
  },
  {
   "cell_type": "markdown",
   "id": "45b34185",
   "metadata": {},
   "source": [
    "Recordando:\n",
    "\n",
    "| id (int) | team (string) | initials (string) |"
   ]
  },
  {
   "cell_type": "code",
   "execution_count": 37,
   "id": "73103850",
   "metadata": {},
   "outputs": [],
   "source": [
    "#Removemos header\n",
    "paises_RDD = paises_RDD.mapPartitionsWithIndex(removeHeader)"
   ]
  },
  {
   "cell_type": "code",
   "execution_count": 38,
   "id": "5aac893b",
   "metadata": {},
   "outputs": [
    {
     "data": {
      "text/plain": [
       "[['1', '30. Februar', 'AUT'],\n",
       " ['2', 'A North American Team', 'MEX'],\n",
       " ['3', 'Acipactli', 'MEX'],\n",
       " ['4', 'Acturus', 'ARG'],\n",
       " ['5', 'Afghanistan', 'AFG']]"
      ]
     },
     "execution_count": 38,
     "metadata": {},
     "output_type": "execute_result"
    }
   ],
   "source": [
    "paises_RDD.take(5)"
   ]
  },
  {
   "cell_type": "code",
   "execution_count": 39,
   "id": "103b5d65",
   "metadata": {},
   "outputs": [],
   "source": [
    "#Mapeo:\n",
    "paises_RDD = paises_RDD.map(lambda l : (\n",
    "    int(l[0]),\n",
    "    l[1],\n",
    "    l[2]\n",
    "))"
   ]
  },
  {
   "cell_type": "code",
   "execution_count": 40,
   "id": "1639a671",
   "metadata": {},
   "outputs": [],
   "source": [
    "schema = StructType([\n",
    "    StructField(\"team_id\",IntegerType(),False),\n",
    "    StructField(\"team_name\",StringType(),False),\n",
    "    StructField(\"initials\",StringType(),False)\n",
    "])"
   ]
  },
  {
   "cell_type": "code",
   "execution_count": 41,
   "id": "315ba3fd",
   "metadata": {},
   "outputs": [
    {
     "name": "stdout",
     "output_type": "stream",
     "text": [
      "+-------+--------------------+--------+\n",
      "|team_id|           team_name|initials|\n",
      "+-------+--------------------+--------+\n",
      "|      1|         30. Februar|     AUT|\n",
      "|      2|A North American ...|     MEX|\n",
      "|      3|           Acipactli|     MEX|\n",
      "|      4|             Acturus|     ARG|\n",
      "|      5|         Afghanistan|     AFG|\n",
      "+-------+--------------------+--------+\n",
      "only showing top 5 rows\n",
      "\n"
     ]
    }
   ],
   "source": [
    "sqlContext.createDataFrame(paises_RDD,schema).show(5)"
   ]
  },
  {
   "cell_type": "code",
   "execution_count": 42,
   "id": "94600d06",
   "metadata": {},
   "outputs": [],
   "source": [
    "teams_df = sqlContext.createDataFrame(deportistaOlimpicoRDD,schema)"
   ]
  },
  {
   "cell_type": "markdown",
   "id": "8c6d525c",
   "metadata": {},
   "source": [
    "## Dataframe Resultados"
   ]
  },
  {
   "cell_type": "code",
   "execution_count": 45,
   "id": "a116f7d1",
   "metadata": {},
   "outputs": [
    {
     "name": "stdout",
     "output_type": "stream",
     "text": [
      "deporte.csv\t deportistaError.csv  modelo_relacional.jpg\r\n",
      "deportista2.csv  evento.csv\t      paises.csv\r\n",
      "deportista.csv\t juegos.csv\t      resultados.csv\r\n"
     ]
    }
   ],
   "source": [
    "!ls ./data/"
   ]
  },
  {
   "cell_type": "code",
   "execution_count": 46,
   "id": "ca1bb403",
   "metadata": {},
   "outputs": [],
   "source": [
    "results_RDD = spark.textFile(path + \"resultados.csv\") \\\n",
    "    .map(lambda l: l.split(\",\"))"
   ]
  },
  {
   "cell_type": "code",
   "execution_count": 47,
   "id": "c9466429",
   "metadata": {},
   "outputs": [
    {
     "data": {
      "text/plain": [
       "[['resultado_id', 'medalla', 'deportista_id', 'juego_id', 'evento_id'],\n",
       " ['1', 'NA', '1', '39', '1'],\n",
       " ['2', 'NA', '2', '49', '2'],\n",
       " ['3', 'NA', '3', '7', '3'],\n",
       " ['4', 'Gold', '4', '2', '4']]"
      ]
     },
     "execution_count": 47,
     "metadata": {},
     "output_type": "execute_result"
    }
   ],
   "source": [
    "results_RDD.take(5)"
   ]
  },
  {
   "cell_type": "code",
   "execution_count": 48,
   "id": "4e4330e8",
   "metadata": {},
   "outputs": [],
   "source": [
    "#Removemos header\n",
    "results_RDD = results_RDD.mapPartitionsWithIndex(removeHeader)"
   ]
  },
  {
   "cell_type": "code",
   "execution_count": 49,
   "id": "d47348e7",
   "metadata": {},
   "outputs": [],
   "source": [
    "results_RDD = results_RDD.filter(lambda l : 'NA' not in l[1]) #Quitamos los que no ganaron"
   ]
  },
  {
   "cell_type": "code",
   "execution_count": 50,
   "id": "d72ae057",
   "metadata": {},
   "outputs": [
    {
     "data": {
      "text/plain": [
       "[['4', 'Gold', '4', '2', '4'], ['38', 'Bronze', '15', '7', '19']]"
      ]
     },
     "execution_count": 50,
     "metadata": {},
     "output_type": "execute_result"
    }
   ],
   "source": [
    "results_RDD.take(2)"
   ]
  },
  {
   "cell_type": "markdown",
   "id": "8f06b411",
   "metadata": {},
   "source": [
    "###### Mapeo:\n",
    "|result_id (int) | medal (str) | sport_player_id (int) | game_id(int) | event_id (int)|"
   ]
  },
  {
   "cell_type": "code",
   "execution_count": 51,
   "id": "82f8f59e",
   "metadata": {},
   "outputs": [],
   "source": [
    "results_RDD = results_RDD.map(lambda l : (\n",
    "    int(l[0]),\n",
    "    l[1],\n",
    "    int(l[2]),\n",
    "    int(l[3]),\n",
    "    int(l[4])\n",
    "))"
   ]
  },
  {
   "cell_type": "code",
   "execution_count": 52,
   "id": "0f063b4e",
   "metadata": {},
   "outputs": [
    {
     "data": {
      "text/plain": [
       "[(4, 'Gold', 4, 2, 4), (38, 'Bronze', 15, 7, 19), (39, 'Bronze', 15, 7, 20)]"
      ]
     },
     "execution_count": 52,
     "metadata": {},
     "output_type": "execute_result"
    }
   ],
   "source": [
    "results_RDD.take(3)"
   ]
  },
  {
   "cell_type": "code",
   "execution_count": 55,
   "id": "f5ef6097",
   "metadata": {},
   "outputs": [],
   "source": [
    "schema = StructType([\n",
    "    StructField(\"result_id \",IntegerType(),False),\n",
    "    StructField(\"medal\",StringType(),False),\n",
    "    StructField(\"sport_player_id\",IntegerType(),False),\n",
    "    StructField(\"game_id\",IntegerType(),False),\n",
    "    StructField(\"event_id\", IntegerType(), False)\n",
    "])"
   ]
  },
  {
   "cell_type": "code",
   "execution_count": 56,
   "id": "d45eed5e",
   "metadata": {},
   "outputs": [
    {
     "name": "stdout",
     "output_type": "stream",
     "text": [
      "+----------+------+---------------+-------+--------+\n",
      "|result_id | medal|sport_player_id|game_id|event_id|\n",
      "+----------+------+---------------+-------+--------+\n",
      "|         4|  Gold|              4|      2|       4|\n",
      "|        38|Bronze|             15|      7|      19|\n",
      "|        39|Bronze|             15|      7|      20|\n",
      "|        41|Bronze|             16|     50|      14|\n",
      "|        42|Bronze|             17|     17|      21|\n",
      "+----------+------+---------------+-------+--------+\n",
      "only showing top 5 rows\n",
      "\n"
     ]
    }
   ],
   "source": [
    "sqlContext.createDataFrame(results_RDD,schema).show(5)"
   ]
  },
  {
   "cell_type": "code",
   "execution_count": 57,
   "id": "a1ee5947",
   "metadata": {},
   "outputs": [],
   "source": [
    "results_df = sqlContext.createDataFrame(results_RDD,schema)"
   ]
  },
  {
   "cell_type": "code",
   "execution_count": null,
   "id": "b4096dcb",
   "metadata": {},
   "outputs": [],
   "source": []
  }
 ],
 "metadata": {
  "kernelspec": {
   "display_name": "Python 3",
   "language": "python",
   "name": "python3"
  },
  "language_info": {
   "codemirror_mode": {
    "name": "ipython",
    "version": 3
   },
   "file_extension": ".py",
   "mimetype": "text/x-python",
   "name": "python",
   "nbconvert_exporter": "python",
   "pygments_lexer": "ipython3",
   "version": "3.8.8"
  }
 },
 "nbformat": 4,
 "nbformat_minor": 5
}
