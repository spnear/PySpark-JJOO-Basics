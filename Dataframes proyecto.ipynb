{
 "cells": [
  {
   "cell_type": "code",
   "execution_count": 1,
   "id": "34d83a5a",
   "metadata": {},
   "outputs": [],
   "source": [
    "from pyspark import SparkContext\n",
    "from pyspark.sql import SparkSession\n",
    "\n",
    "from pyspark.sql.types import StructType, StructField, IntegerType, StringType, FloatType\n",
    "from pyspark.sql.types import Row\n",
    "from pyspark.sql import SQLContext"
   ]
  },
  {
   "cell_type": "code",
   "execution_count": 2,
   "id": "026bc552",
   "metadata": {},
   "outputs": [],
   "source": [
    "spark = SparkContext(master=\"local\", appName=\"Dataframes\")\n",
    "sqlContext = SQLContext(spark)"
   ]
  },
  {
   "cell_type": "code",
   "execution_count": 3,
   "id": "cef3f171",
   "metadata": {},
   "outputs": [],
   "source": [
    "def removeHeader(index, iterator):\n",
    "    return iter(list(iterator)[1:])"
   ]
  },
  {
   "cell_type": "code",
   "execution_count": 4,
   "id": "49b9e8a5",
   "metadata": {},
   "outputs": [
    {
     "name": "stdout",
     "output_type": "stream",
     "text": [
      "deporte.csv\t deportistaError.csv  modelo_relacional.jpg\r\n",
      "deportista2.csv  evento.csv\t      paises.csv\r\n",
      "deportista.csv\t juegos.csv\t      resultados.csv\r\n"
     ]
    }
   ],
   "source": [
    "!ls ./data/"
   ]
  },
  {
   "cell_type": "code",
   "execution_count": 5,
   "id": "32567701",
   "metadata": {},
   "outputs": [],
   "source": [
    "path = \"./data/\""
   ]
  },
  {
   "cell_type": "markdown",
   "id": "0db12a10",
   "metadata": {},
   "source": [
    "###### Dataframe juegos.csv"
   ]
  },
  {
   "cell_type": "code",
   "execution_count": 6,
   "id": "c2021ed6",
   "metadata": {},
   "outputs": [],
   "source": [
    "game_schema = StructType([\n",
    "    StructField(\"game_id\", IntegerType(), False),\n",
    "    StructField(\"year\", StringType(), False),\n",
    "    StructField(\"season\", StringType(), False),\n",
    "    StructField(\"city\", StringType(), False)\n",
    "])\n",
    "\n",
    "game_df = sqlContext.read.schema(game_schema) \\\n",
    "    .option(\"header\", \"true\").csv(path+\"juegos.csv\")"
   ]
  },
  {
   "cell_type": "code",
   "execution_count": 7,
   "id": "8fe15547",
   "metadata": {},
   "outputs": [
    {
     "name": "stdout",
     "output_type": "stream",
     "text": [
      "+-------+-----------+------+------+\n",
      "|game_id|       year|season|  city|\n",
      "+-------+-----------+------+------+\n",
      "|      1|1896 Verano|  1896|Verano|\n",
      "|      2|1900 Verano|  1900|Verano|\n",
      "|      3|1904 Verano|  1904|Verano|\n",
      "|      4|1906 Verano|  1906|Verano|\n",
      "|      5|1908 Verano|  1908|Verano|\n",
      "+-------+-----------+------+------+\n",
      "only showing top 5 rows\n",
      "\n"
     ]
    }
   ],
   "source": [
    "game_df.show(5)"
   ]
  },
  {
   "cell_type": "code",
   "execution_count": 8,
   "id": "6acfbc2e",
   "metadata": {},
   "outputs": [],
   "source": [
    "deportistaOlimpicoRDD = spark.textFile(path+\"deportista.csv\") \\\n",
    "    .map(lambda l: l.split(\",\"))\n",
    "deportistaOlimpicoRDD2 = spark.textFile(path+\"deportista2.csv\") \\\n",
    "    .map(lambda l: l.split(\",\"))"
   ]
  },
  {
   "cell_type": "code",
   "execution_count": 9,
   "id": "ea795e3d",
   "metadata": {},
   "outputs": [
    {
     "data": {
      "text/plain": [
       "[['deportista_id', 'nombre', 'genero', 'edad', 'altura', 'peso', 'equipo_id'],\n",
       " ['1', 'A Dijiang', '1', '24', '180', '80', '199'],\n",
       " ['2', 'A Lamusi', '1', '23', '170', '60', '199'],\n",
       " ['3', 'Gunnar Nielsen Aaby', '1', '24', '0', '0', '273'],\n",
       " ['4', 'Edgar Lindenau Aabye', '1', '34', '0', '0', '278']]"
      ]
     },
     "execution_count": 9,
     "metadata": {},
     "output_type": "execute_result"
    }
   ],
   "source": [
    "deportistaOlimpicoRDD.take(5)"
   ]
  },
  {
   "cell_type": "code",
   "execution_count": 10,
   "id": "8baab60b",
   "metadata": {},
   "outputs": [
    {
     "data": {
      "text/plain": [
       "67785"
      ]
     },
     "execution_count": 10,
     "metadata": {},
     "output_type": "execute_result"
    }
   ],
   "source": [
    "deportistaOlimpicoRDD2.count()"
   ]
  },
  {
   "cell_type": "code",
   "execution_count": 11,
   "id": "960d4795",
   "metadata": {},
   "outputs": [],
   "source": [
    "# Union de datos\n",
    "deportistaOlimpicoRDD = deportistaOlimpicoRDD \\\n",
    "    .union(deportistaOlimpicoRDD2)"
   ]
  },
  {
   "cell_type": "code",
   "execution_count": 12,
   "id": "d1fcc109",
   "metadata": {},
   "outputs": [],
   "source": [
    "#Removemos header primero y luego si procesamos\n",
    "deportistaOlimpicoRDD = deportistaOlimpicoRDD.mapPartitionsWithIndex(removeHeader)"
   ]
  },
  {
   "cell_type": "code",
   "execution_count": 13,
   "id": "dff13890",
   "metadata": {},
   "outputs": [],
   "source": [
    "deportistaOlimpicoRDD = deportistaOlimpicoRDD.map(lambda l : (\n",
    "    int(l[0]),\n",
    "    l[1],\n",
    "    int(l[2]),\n",
    "    int(l[3]),\n",
    "    int(l[4]),\n",
    "    float(l[5]),\n",
    "    int(l[6])\n",
    "))"
   ]
  },
  {
   "cell_type": "code",
   "execution_count": 14,
   "id": "638de6ab",
   "metadata": {},
   "outputs": [],
   "source": [
    "schema = StructType([\n",
    "    StructField(\"sport_player\", IntegerType(), False),\n",
    "    StructField(\"name\", StringType(), False),\n",
    "    StructField(\"gender\", IntegerType(), False),\n",
    "    StructField(\"age\", IntegerType(), False),\n",
    "    StructField(\"height\", IntegerType(), False),\n",
    "    StructField(\"weight\", FloatType(), False),\n",
    "    StructField(\"team_id\", IntegerType(), False)\n",
    "])"
   ]
  },
  {
   "cell_type": "code",
   "execution_count": 15,
   "id": "9d68ef4a",
   "metadata": {},
   "outputs": [],
   "source": [
    "sports_players_df = sqlContext.createDataFrame(deportistaOlimpicoRDD,schema)"
   ]
  },
  {
   "cell_type": "code",
   "execution_count": 16,
   "id": "6be0bf0f",
   "metadata": {},
   "outputs": [
    {
     "name": "stdout",
     "output_type": "stream",
     "text": [
      "+------------+--------------------+------+---+------+------+-------+\n",
      "|sport_player|                name|gender|age|height|weight|team_id|\n",
      "+------------+--------------------+------+---+------+------+-------+\n",
      "|           1|           A Dijiang|     1| 24|   180|  80.0|    199|\n",
      "|           2|            A Lamusi|     1| 23|   170|  60.0|    199|\n",
      "|           3| Gunnar Nielsen Aaby|     1| 24|     0|   0.0|    273|\n",
      "|           4|Edgar Lindenau Aabye|     1| 34|     0|   0.0|    278|\n",
      "|           5|Christine Jacoba ...|     2| 21|   185|  82.0|    705|\n",
      "+------------+--------------------+------+---+------+------+-------+\n",
      "only showing top 5 rows\n",
      "\n"
     ]
    }
   ],
   "source": [
    "sports_players_df.show(5)"
   ]
  },
  {
   "cell_type": "markdown",
   "id": "fabd70db",
   "metadata": {},
   "source": [
    "###### Dataframe paises.csv"
   ]
  },
  {
   "cell_type": "code",
   "execution_count": 17,
   "id": "266147d8",
   "metadata": {},
   "outputs": [],
   "source": [
    "paises_RDD = spark.textFile(path + \"paises.csv\") \\\n",
    "    .map(lambda l: l.split(\",\"))"
   ]
  },
  {
   "cell_type": "code",
   "execution_count": 18,
   "id": "0d7e143d",
   "metadata": {},
   "outputs": [],
   "source": [
    "#Removemos header\n",
    "paises_RDD = paises_RDD.mapPartitionsWithIndex(removeHeader)"
   ]
  },
  {
   "cell_type": "code",
   "execution_count": 19,
   "id": "dcc73c60",
   "metadata": {},
   "outputs": [],
   "source": [
    "#Mapeo:\n",
    "paises_RDD = paises_RDD.map(lambda l : (\n",
    "    int(l[0]),\n",
    "    l[1],\n",
    "    l[2]\n",
    "))"
   ]
  },
  {
   "cell_type": "code",
   "execution_count": 20,
   "id": "7477170f",
   "metadata": {},
   "outputs": [],
   "source": [
    "schema = StructType([\n",
    "    StructField(\"team_id\",IntegerType(),False),\n",
    "    StructField(\"team_name\",StringType(),False),\n",
    "    StructField(\"initials\",StringType(),False)\n",
    "])"
   ]
  },
  {
   "cell_type": "code",
   "execution_count": 21,
   "id": "2df99444",
   "metadata": {},
   "outputs": [],
   "source": [
    "teams_df = sqlContext.createDataFrame(paises_RDD,schema)"
   ]
  },
  {
   "cell_type": "code",
   "execution_count": 22,
   "id": "46786a5e",
   "metadata": {},
   "outputs": [
    {
     "name": "stdout",
     "output_type": "stream",
     "text": [
      "+-------+--------------------+--------+\n",
      "|team_id|           team_name|initials|\n",
      "+-------+--------------------+--------+\n",
      "|      1|         30. Februar|     AUT|\n",
      "|      2|A North American ...|     MEX|\n",
      "|      3|           Acipactli|     MEX|\n",
      "|      4|             Acturus|     ARG|\n",
      "|      5|         Afghanistan|     AFG|\n",
      "+-------+--------------------+--------+\n",
      "only showing top 5 rows\n",
      "\n"
     ]
    }
   ],
   "source": [
    "teams_df.show(5)"
   ]
  },
  {
   "cell_type": "markdown",
   "id": "01327148",
   "metadata": {},
   "source": [
    "###### Dataframe deportes.csv"
   ]
  },
  {
   "cell_type": "code",
   "execution_count": 23,
   "id": "7189eb09",
   "metadata": {},
   "outputs": [
    {
     "name": "stdout",
     "output_type": "stream",
     "text": [
      "deporte.csv\t deportistaError.csv  modelo_relacional.jpg\r\n",
      "deportista2.csv  evento.csv\t      paises.csv\r\n",
      "deportista.csv\t juegos.csv\t      resultados.csv\r\n"
     ]
    }
   ],
   "source": [
    "!ls ./data/"
   ]
  },
  {
   "cell_type": "code",
   "execution_count": 24,
   "id": "6948d50c",
   "metadata": {},
   "outputs": [
    {
     "name": "stdout",
     "output_type": "stream",
     "text": [
      "deporte_id,deporte\r\n",
      "1,Basketball\r\n",
      "2,Judo\r\n",
      "3,Football\r\n",
      "4,Tug-Of-War\r\n"
     ]
    }
   ],
   "source": [
    "!head -n 5 ./data/deporte.csv"
   ]
  },
  {
   "cell_type": "code",
   "execution_count": 25,
   "id": "0de41ec9",
   "metadata": {},
   "outputs": [],
   "source": [
    "sport_schema = StructType([\n",
    "    StructField(\"sport_id\", IntegerType(), False),\n",
    "    StructField(\"sport_name\", StringType(), False)\n",
    "])\n",
    "\n",
    "sport_df = sqlContext.read.schema(sport_schema) \\\n",
    "    .option(\"header\", \"true\").csv(path+\"deporte.csv\")"
   ]
  },
  {
   "cell_type": "code",
   "execution_count": 26,
   "id": "6ec11842",
   "metadata": {},
   "outputs": [
    {
     "name": "stdout",
     "output_type": "stream",
     "text": [
      "+--------+-------------+\n",
      "|sport_id|   sport_name|\n",
      "+--------+-------------+\n",
      "|       1|   Basketball|\n",
      "|       2|         Judo|\n",
      "|       3|     Football|\n",
      "|       4|   Tug-Of-War|\n",
      "|       5|Speed Skating|\n",
      "+--------+-------------+\n",
      "only showing top 5 rows\n",
      "\n"
     ]
    }
   ],
   "source": [
    "sport_df.show(5)"
   ]
  },
  {
   "cell_type": "markdown",
   "id": "c8934b2c",
   "metadata": {},
   "source": [
    "###### Dataframe evento.csv"
   ]
  },
  {
   "cell_type": "code",
   "execution_count": 27,
   "id": "003488ee",
   "metadata": {},
   "outputs": [
    {
     "name": "stdout",
     "output_type": "stream",
     "text": [
      "evento_id,evento,deporte_id\r\n",
      "1,Basketball Men's Basketball,1\r\n",
      "2,Judo Men's Extra-Lightweight,2\r\n",
      "3,Football Men's Football,3\r\n",
      "4,Tug-Of-War Men's Tug-Of-War,4\r\n"
     ]
    }
   ],
   "source": [
    "!head -n 5 ./data/evento.csv"
   ]
  },
  {
   "cell_type": "code",
   "execution_count": 28,
   "id": "914779d0",
   "metadata": {},
   "outputs": [],
   "source": [
    "event_schema = StructType([\n",
    "    StructField(\"event_id\", IntegerType(), False),\n",
    "    StructField(\"event\", StringType(), False),\n",
    "    StructField(\"sport_id\", StringType(), False)\n",
    "])\n",
    "\n",
    "event_df = sqlContext.read.schema(event_schema) \\\n",
    "    .option(\"header\",\"true\").csv(path+\"evento.csv\")"
   ]
  },
  {
   "cell_type": "code",
   "execution_count": 29,
   "id": "6201c083",
   "metadata": {},
   "outputs": [
    {
     "name": "stdout",
     "output_type": "stream",
     "text": [
      "+--------+--------------------+--------+\n",
      "|event_id|               event|sport_id|\n",
      "+--------+--------------------+--------+\n",
      "|       1|Basketball Men's ...|       1|\n",
      "|       2|Judo Men's Extra-...|       2|\n",
      "|       3|Football Men's Fo...|       3|\n",
      "|       4|Tug-Of-War Men's ...|       4|\n",
      "|       5|Speed Skating Wom...|       5|\n",
      "+--------+--------------------+--------+\n",
      "only showing top 5 rows\n",
      "\n"
     ]
    }
   ],
   "source": [
    "event_df.show(5)"
   ]
  },
  {
   "cell_type": "markdown",
   "id": "f28f3fb0",
   "metadata": {},
   "source": [
    "###### Dataframe resultados.csv"
   ]
  },
  {
   "cell_type": "code",
   "execution_count": 30,
   "id": "11245416",
   "metadata": {},
   "outputs": [
    {
     "name": "stdout",
     "output_type": "stream",
     "text": [
      "resultado_id,medalla,deportista_id,juego_id,evento_id\r\n",
      "1,NA,1,39,1\r\n",
      "2,NA,2,49,2\r\n",
      "3,NA,3,7,3\r\n",
      "4,Gold,4,2,4\r\n"
     ]
    }
   ],
   "source": [
    "!head -n 5 ./data/resultados.csv"
   ]
  },
  {
   "cell_type": "code",
   "execution_count": 31,
   "id": "e295b308",
   "metadata": {},
   "outputs": [],
   "source": [
    "result_schema = StructType([\n",
    "    StructField(\"result_id \",IntegerType(),False),\n",
    "    StructField(\"medal\",StringType(),False),\n",
    "    StructField(\"sport_player_id\",IntegerType(),False),\n",
    "    StructField(\"game_id\",IntegerType(),False),\n",
    "    StructField(\"event_id\", IntegerType(), False)\n",
    "])\n",
    "result_df = sqlContext.read.schema(result_schema) \\\n",
    "    .option(\"header\",\"true\").csv(path+\"resultados.csv\")"
   ]
  },
  {
   "cell_type": "code",
   "execution_count": 32,
   "id": "a6f307c1",
   "metadata": {
    "scrolled": true
   },
   "outputs": [
    {
     "name": "stdout",
     "output_type": "stream",
     "text": [
      "+----------+-----+---------------+-------+--------+\n",
      "|result_id |medal|sport_player_id|game_id|event_id|\n",
      "+----------+-----+---------------+-------+--------+\n",
      "|         1|   NA|              1|     39|       1|\n",
      "|         2|   NA|              2|     49|       2|\n",
      "|         3|   NA|              3|      7|       3|\n",
      "|         4| Gold|              4|      2|       4|\n",
      "|         5|   NA|              5|     36|       5|\n",
      "+----------+-----+---------------+-------+--------+\n",
      "only showing top 5 rows\n",
      "\n"
     ]
    }
   ],
   "source": [
    "result_df.show(5)"
   ]
  },
  {
   "cell_type": "markdown",
   "id": "5493c473",
   "metadata": {},
   "source": [
    "### Impresion de Schemas\n",
    "Visualizar comportamiento del schema"
   ]
  },
  {
   "cell_type": "code",
   "execution_count": 33,
   "id": "60fc8ee2",
   "metadata": {},
   "outputs": [
    {
     "name": "stdout",
     "output_type": "stream",
     "text": [
      "root\n",
      " |-- sport_id: integer (nullable = true)\n",
      " |-- sport_name: string (nullable = true)\n",
      "\n"
     ]
    }
   ],
   "source": [
    "sport_df.printSchema()"
   ]
  },
  {
   "cell_type": "code",
   "execution_count": 34,
   "id": "c0c23a1c",
   "metadata": {},
   "outputs": [
    {
     "name": "stdout",
     "output_type": "stream",
     "text": [
      "root\n",
      " |-- sport_player: integer (nullable = false)\n",
      " |-- name: string (nullable = false)\n",
      " |-- gender: integer (nullable = false)\n",
      " |-- age: integer (nullable = false)\n",
      " |-- height: integer (nullable = false)\n",
      " |-- weight: float (nullable = false)\n",
      " |-- team_id: integer (nullable = false)\n",
      "\n"
     ]
    }
   ],
   "source": [
    "sports_players_df.printSchema()"
   ]
  },
  {
   "cell_type": "markdown",
   "id": "ad03ab1d",
   "metadata": {},
   "source": [
    "### Renombrado y borrado de columnas"
   ]
  },
  {
   "cell_type": "code",
   "execution_count": 35,
   "id": "0abb44d2",
   "metadata": {},
   "outputs": [],
   "source": [
    "from pyspark.sql.functions import *"
   ]
  },
  {
   "cell_type": "code",
   "execution_count": 36,
   "id": "52901e93",
   "metadata": {},
   "outputs": [],
   "source": [
    "sports_players_df = sports_players_df.withColumnRenamed(\"gender\", \"sex\").drop(\"height\")"
   ]
  },
  {
   "cell_type": "code",
   "execution_count": 37,
   "id": "6ab5ab46",
   "metadata": {
    "scrolled": true
   },
   "outputs": [
    {
     "name": "stdout",
     "output_type": "stream",
     "text": [
      "+------------+--------------------+---+---+------+-------+\n",
      "|sport_player|                name|sex|age|weight|team_id|\n",
      "+------------+--------------------+---+---+------+-------+\n",
      "|           1|           A Dijiang|  1| 24|  80.0|    199|\n",
      "|           2|            A Lamusi|  1| 23|  60.0|    199|\n",
      "|           3| Gunnar Nielsen Aaby|  1| 24|   0.0|    273|\n",
      "|           4|Edgar Lindenau Aabye|  1| 34|   0.0|    278|\n",
      "|           5|Christine Jacoba ...|  2| 21|  82.0|    705|\n",
      "+------------+--------------------+---+---+------+-------+\n",
      "only showing top 5 rows\n",
      "\n"
     ]
    }
   ],
   "source": [
    "sports_players_df.show(5)"
   ]
  },
  {
   "cell_type": "code",
   "execution_count": 38,
   "id": "74159aaa",
   "metadata": {
    "scrolled": true
   },
   "outputs": [
    {
     "name": "stdout",
     "output_type": "stream",
     "text": [
      "root\n",
      " |-- sport_player: integer (nullable = false)\n",
      " |-- name: string (nullable = false)\n",
      " |-- sex: integer (nullable = false)\n",
      " |-- age: integer (nullable = false)\n",
      " |-- weight: float (nullable = false)\n",
      " |-- team_id: integer (nullable = false)\n",
      "\n"
     ]
    }
   ],
   "source": [
    "sports_players_df.printSchema()"
   ]
  },
  {
   "cell_type": "markdown",
   "id": "eccef053",
   "metadata": {},
   "source": [
    "##### SQL Functions\n",
    "Existen algunas funciones similares a SQL que podemos utilizar\n",
    "Si usamos col, habilita operaciones como alias"
   ]
  },
  {
   "cell_type": "code",
   "execution_count": 39,
   "id": "eeb46acd",
   "metadata": {},
   "outputs": [],
   "source": [
    "sports_players_df = sports_players_df.select(\"sport_player\",\"name\", col(\"age\")\\\n",
    "                         .alias(\"age_played\"), \"team_id\")"
   ]
  },
  {
   "cell_type": "code",
   "execution_count": 40,
   "id": "7f5112b1",
   "metadata": {
    "scrolled": true
   },
   "outputs": [
    {
     "name": "stdout",
     "output_type": "stream",
     "text": [
      "+------------+--------------------+----------+-------+\n",
      "|sport_player|                name|age_played|team_id|\n",
      "+------------+--------------------+----------+-------+\n",
      "|           1|           A Dijiang|        24|    199|\n",
      "|           2|            A Lamusi|        23|    199|\n",
      "|           3| Gunnar Nielsen Aaby|        24|    273|\n",
      "|           4|Edgar Lindenau Aabye|        34|    278|\n",
      "|           5|Christine Jacoba ...|        21|    705|\n",
      "+------------+--------------------+----------+-------+\n",
      "only showing top 5 rows\n",
      "\n"
     ]
    }
   ],
   "source": [
    "sports_players_df.show(5)"
   ]
  },
  {
   "cell_type": "code",
   "execution_count": 41,
   "id": "1f373c4c",
   "metadata": {},
   "outputs": [
    {
     "name": "stdout",
     "output_type": "stream",
     "text": [
      "+------------+--------------------+----------+-------+\n",
      "|sport_player|                name|age_played|team_id|\n",
      "+------------+--------------------+----------+-------+\n",
      "|         224|     Mohamed AbdelEl|         0|    308|\n",
      "|         487|      Inni Aboubacar|         0|    721|\n",
      "|         226|Sanad Bushara Abd...|         0|   1003|\n",
      "|          58|    Georgi Abadzhiev|         0|    154|\n",
      "|         230|    Moustafa Abdelal|         0|    308|\n",
      "|         102|   Sayed Fahmy Abaza|         0|    308|\n",
      "|         260|  Ahmed Abdo Mustafa|         0|   1003|\n",
      "|         139|George Ioannis Abbot|         0|   1043|\n",
      "|         281|      S. Abdul Hamid|         0|    487|\n",
      "|         163|     Ismail Abdallah|         0|   1095|\n",
      "|         285|Talal Hassoun Abd...|         0|    497|\n",
      "|         173| Mohamed Abdel Fatah|         0|   1003|\n",
      "|         179|Ibrahim Saad Abde...|         0|   1003|\n",
      "|         378|     Angelik Abebame|         0|      0|\n",
      "|         294|Mohamed Ghulom Ab...|         0|     81|\n",
      "|         186| Mohamed Abdel Hafiz|         0|   1095|\n",
      "|         300|     A. Abdul Razzak|         0|    497|\n",
      "|         190| Ibrahim Abdel Hamid|         0|    308|\n",
      "|         301|Mohamed Abdul Razzak|         0|    497|\n",
      "|         209|Ibrahim Abdel Rahman|         0|   1095|\n",
      "+------------+--------------------+----------+-------+\n",
      "only showing top 20 rows\n",
      "\n"
     ]
    }
   ],
   "source": [
    "sports_players_df.sort(\"age_played\").show()"
   ]
  },
  {
   "cell_type": "markdown",
   "id": "8e4b50ab",
   "metadata": {},
   "source": [
    "### Filtrado con Dataframes"
   ]
  },
  {
   "cell_type": "code",
   "execution_count": 43,
   "id": "6a3736be",
   "metadata": {},
   "outputs": [],
   "source": [
    "sports_players_df = sports_players_df \\\n",
    "    .filter(sports_players_df.age_played != 0)"
   ]
  },
  {
   "cell_type": "code",
   "execution_count": 44,
   "id": "2dc87517",
   "metadata": {
    "scrolled": true
   },
   "outputs": [
    {
     "name": "stdout",
     "output_type": "stream",
     "text": [
      "+------------+--------------------+----------+-------+\n",
      "|sport_player|                name|age_played|team_id|\n",
      "+------------+--------------------+----------+-------+\n",
      "|       71691|  Dimitrios Loundras|        10|    333|\n",
      "|       52070|        Etsuko Inada|        11|    514|\n",
      "|       40129|    Luigina Giavotti|        11|    507|\n",
      "|       37333|Carlos Bienvenido...|        11|    982|\n",
      "|       47618|Sonja Henie Toppi...|        11|    742|\n",
      "+------------+--------------------+----------+-------+\n",
      "only showing top 5 rows\n",
      "\n"
     ]
    }
   ],
   "source": [
    "sports_players_df.sort(\"age_played\").show(5)"
   ]
  },
  {
   "cell_type": "markdown",
   "id": "a0bdb945",
   "metadata": {},
   "source": [
    "#### Agg functions:\n",
    "Podemos ejecutar aggregated functions como min, max, avg, etc"
   ]
  },
  {
   "cell_type": "code",
   "execution_count": 48,
   "id": "142f8952",
   "metadata": {},
   "outputs": [
    {
     "name": "stdout",
     "output_type": "stream",
     "text": [
      "+---------------+\n",
      "|min(age_played)|\n",
      "+---------------+\n",
      "|             10|\n",
      "+---------------+\n",
      "\n"
     ]
    }
   ],
   "source": [
    "sports_players_df.agg({'age_played': 'min'}).show()"
   ]
  },
  {
   "cell_type": "code",
   "execution_count": 49,
   "id": "aee1721c",
   "metadata": {},
   "outputs": [
    {
     "name": "stdout",
     "output_type": "stream",
     "text": [
      "+---------------+\n",
      "|max(age_played)|\n",
      "+---------------+\n",
      "|             97|\n",
      "+---------------+\n",
      "\n"
     ]
    }
   ],
   "source": [
    "sports_players_df.agg({'age_played': 'max'}).show()"
   ]
  },
  {
   "cell_type": "code",
   "execution_count": null,
   "id": "dd2adedf",
   "metadata": {},
   "outputs": [],
   "source": []
  }
 ],
 "metadata": {
  "kernelspec": {
   "display_name": "Python 3",
   "language": "python",
   "name": "python3"
  },
  "language_info": {
   "codemirror_mode": {
    "name": "ipython",
    "version": 3
   },
   "file_extension": ".py",
   "mimetype": "text/x-python",
   "name": "python",
   "nbconvert_exporter": "python",
   "pygments_lexer": "ipython3",
   "version": "3.8.8"
  }
 },
 "nbformat": 4,
 "nbformat_minor": 5
}
